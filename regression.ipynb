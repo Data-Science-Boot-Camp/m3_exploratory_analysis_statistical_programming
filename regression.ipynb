{
 "cells": [
  {
   "cell_type": "code",
   "execution_count": 5,
   "metadata": {},
   "outputs": [],
   "source": [
    "import numpy as np\n",
    "import matplotlib.pyplot as plt\n",
    "from sklearn.linear_model import LinearRegression\n",
    "np.random.seed(0)"
   ]
  },
  {
   "cell_type": "code",
   "execution_count": 6,
   "metadata": {},
   "outputs": [
    {
     "data": {
      "image/png": "[encoded data removed]",
      "text/plain": [
       "<Figure size 432x288 with 1 Axes>"
      ]
     },
     "metadata": {
      "needs_background": "light"
     },
     "output_type": "display_data"
    }
   ],
   "source": [
    "# Generar datos sintéticos con una relación lineal\n",
    "pendiente = 2\n",
    "intercepcion = 1\n",
    "x = np.linspace(0, 10, 50)\n",
    "y = pendiente * x + intercepcion + np.random.randn(50) * 2\n",
    "\n",
    "# Graficar los datos\n",
    "plt.scatter(x, y)\n",
    "plt.xlabel(\"x\")\n",
    "plt.ylabel(\"y\")\n",
    "\n",
    "# Ajustar un modelo de regresión lineal\n",
    "model = LinearRegression()\n",
    "model.fit(x.reshape(-1, 1), y)\n",
    "\n",
    "# Calcular las predicciones usando el modelo ajustado\n",
    "x_pred = np.linspace(0, 10, 100)\n",
    "y_pred = model.predict(x_pred.reshape(-1, 1))\n",
    "\n",
    "# Graficar la recta ajustada\n",
    "plt.plot(x_pred, y_pred, color=\"red\")\n",
    "\n",
    "# Mostrar la gráfica\n",
    "plt.show()\n"
   ]
  },
  {
   "cell_type": "code",
   "execution_count": 7,
   "metadata": {},
   "outputs": [
    {
     "name": "stdout",
     "output_type": "stream",
     "text": [
      "Intercepcion: 2.6927410376163863\n",
      "Pendiente: 1.7176755014019622\n"
     ]
    }
   ],
   "source": [
    "# coeficientes del modelo\n",
    "print(\"Intercepcion:\", model.intercept_)\n",
    "print(\"Pendiente:\", model.coef_[0])"
   ]
  },
  {
   "cell_type": "code",
   "execution_count": 8,
   "metadata": {},
   "outputs": [
    {
     "name": "stdout",
     "output_type": "stream",
     "text": [
      "El coeficiente R2 del modelo es: 0.85\n"
     ]
    }
   ],
   "source": [
    "# Calcular el coeficiente R2 del modelo\n",
    "r2 = model.score(x.reshape(-1, 1), y)\n",
    "print(f\"El coeficiente R2 del modelo es: {r2:.2f}\")\n"
   ]
  },
  {
   "cell_type": "code",
   "execution_count": null,
   "metadata": {},
   "outputs": [],
   "source": []
  }
 ],
 "metadata": {
  "kernelspec": {
   "display_name": "Python 3",
   "language": "python",
   "name": "python3"
  },
  "language_info": {
   "codemirror_mode": {
    "name": "ipython",
    "version": 3
   },
   "file_extension": ".py",
   "mimetype": "text/x-python",
   "name": "python",
   "nbconvert_exporter": "python",
   "pygments_lexer": "ipython3",
   "version": "3.10.6"
  },
  "orig_nbformat": 4
 },
 "nbformat": 4,
 "nbformat_minor": 2
}
